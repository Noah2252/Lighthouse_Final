{
 "cells": [
  {
   "cell_type": "code",
   "execution_count": 25,
   "metadata": {},
   "outputs": [],
   "source": [
    "import pandas as pd\n",
    "import numpy as np\n",
    "from collections import Counter\n",
    "from matplotlib import pyplot\n",
    "from sklearn.dummy import DummyClassifier\n",
    "from numpy import mean\n",
    "from numpy import std\n",
    "from pandas import read_csv\n",
    "from matplotlib import pyplot\n",
    "from sklearn.preprocessing import StandardScaler\n",
    "from sklearn.pipeline import Pipeline\n",
    "from sklearn.model_selection import cross_val_score\n",
    "from sklearn.model_selection import RepeatedStratifiedKFold\n",
    "from sklearn.metrics import precision_recall_curve\n",
    "from sklearn.metrics import auc\n",
    "from sklearn.metrics import make_scorer\n",
    "from sklearn.tree import DecisionTreeClassifier\n",
    "from sklearn.neighbors import KNeighborsClassifier\n",
    "from sklearn.ensemble import RandomForestClassifier\n",
    "from sklearn.ensemble import ExtraTreesClassifier\n",
    "from sklearn.ensemble import BaggingClassifier\n",
    "from sklearn.model_selection import train_test_split\n",
    "from sklearn.model_selection import GridSearchCV\n",
    "from sklearn.metrics import accuracy_score"
   ]
  },
  {
   "cell_type": "code",
   "execution_count": 5,
   "metadata": {},
   "outputs": [],
   "source": [
    "# load the dataset\n",
    "def load_dataset(full_path):\n",
    "    # load the dataset as a numpy array\n",
    "    data = read_csv(full_path)\n",
    "    # dependent and independent variables\n",
    "    X = data.drop(['Class'], axis=1)\n",
    "    y = data['Class']\n",
    "    # Trian Test Split\n",
    "    X_train, X_test, y_train, y_test = train_test_split(X,y, test_size=0.1)\n",
    "    return X_train, X_test, y_train, y_test\n",
    "\n",
    "# calculate precision-recall area under curve\n",
    "def pr_auc(y_true, probas_pred):\n",
    "    # calculate precision-recall curve\n",
    "    p, r, _ = precision_recall_curve(y_true, probas_pred)\n",
    "    # calculate area under curve\n",
    "    return auc(r, p)\n",
    "\n",
    "# evaluate a model\n",
    "def evaluate_model(X, y, model):\n",
    "    # define evaluation procedure\n",
    "    cv = RepeatedStratifiedKFold(n_splits=10, n_repeats=3, random_state=1)\n",
    "    # define the model evaluation the metric\n",
    "    metric = make_scorer(pr_auc, needs_proba=True)\n",
    "    # evaluate model\n",
    "    scores = cross_val_score(model, X, y, scoring=metric, cv=cv, n_jobs=-1)\n",
    "    return scores\n",
    "\n",
    "# Final evaluation and display\n",
    "def final_eval(model,X_train, y_train,X_test,y_test, model_name):\n",
    "    # Score model\n",
    "    scores = evaluate_model(X_train, y_train,model)\n",
    "    # summarize performance\n",
    "    print(model_name)\n",
    "    print('Mean PR AUC: %.3f (%.3f)' % (mean(scores), std(scores)))\n",
    "    # fit model\n",
    "    model.fit(X_train,y_train)\n",
    "    # predict y_test\n",
    "    y_pred = model.predict(X_test)\n",
    "    # final score\n",
    "    print('PR AUC: %.3f' % (pr_auc(y_test,y_pred)))\n",
    "    print(\"Accuracy: \",accuracy_score(y_test, y_pred))"
   ]
  },
  {
   "cell_type": "code",
   "execution_count": 6,
   "metadata": {},
   "outputs": [],
   "source": [
    "# define the location of the dataset\n",
    "full_path = 'creditcard.csv'\n",
    "# load the dataset\n",
    "X_train, X_test, y_train, y_test = load_dataset(full_path)"
   ]
  },
  {
   "cell_type": "code",
   "execution_count": 27,
   "metadata": {},
   "outputs": [
    {
     "name": "stdout",
     "output_type": "stream",
     "text": [
      "Decision Tree Plain\n",
      "Mean PR AUC: 0.778 (0.051)\n",
      "PR AUC: 0.681\n",
      "Accuracy:  0.9988413328183702\n"
     ]
    }
   ],
   "source": [
    "# Define Model\n",
    "DTC_plain = DecisionTreeClassifier()\n",
    "# Call final_eval on the Model\n",
    "final_eval(DTC_plain,X_train, y_train,X_test,y_test,'Decision Tree Plain')"
   ]
  },
  {
   "cell_type": "code",
   "execution_count": 28,
   "metadata": {},
   "outputs": [
    {
     "name": "stdout",
     "output_type": "stream",
     "text": [
      "k Nearest Neighbors Plain\n",
      "Mean PR AUC: 0.874 (0.041)\n",
      "PR AUC: 0.783\n",
      "Accuracy:  0.9992275552122467\n"
     ]
    }
   ],
   "source": [
    "# Define Model\n",
    "steps = [('s',StandardScaler()),('m',KNeighborsClassifier())]\n",
    "kNN_plain = Pipeline(steps=steps)\n",
    "# Call final_eval on the Model\n",
    "final_eval(kNN_plain,X_train, y_train,X_test,y_test,'k Nearest Neighbors Plain')"
   ]
  },
  {
   "cell_type": "code",
   "execution_count": 33,
   "metadata": {},
   "outputs": [
    {
     "name": "stdout",
     "output_type": "stream",
     "text": [
      "Bagging Classifier plain\n",
      "Mean PR AUC: 0.852 (0.046)\n",
      "PR AUC: 0.803\n",
      "Accuracy:  0.9992977774656788\n"
     ]
    }
   ],
   "source": [
    "# Define Model\n",
    "BAG_plain = BaggingClassifier(n_estimators=100)\n",
    "# Call final_eval on the Model\n",
    "final_eval(BAG_plain,X_train, y_train,X_test,y_test,'Bagging Classifier plain')"
   ]
  },
  {
   "cell_type": "code",
   "execution_count": 30,
   "metadata": {},
   "outputs": [
    {
     "name": "stdout",
     "output_type": "stream",
     "text": [
      "Random Forest plain\n",
      "Mean PR AUC: 0.859 (0.047)\n",
      "PR AUC: 0.787\n",
      "Accuracy:  0.9992275552122467\n"
     ]
    }
   ],
   "source": [
    "# Define Model\n",
    "RFC_plain = RandomForestClassifier(n_estimators=100)\n",
    "# Call final_eval on the Model\n",
    "final_eval(RFC_plain,X_train, y_train,X_test,y_test,'Random Forest plain')"
   ]
  },
  {
   "cell_type": "code",
   "execution_count": 31,
   "metadata": {},
   "outputs": [
    {
     "name": "stdout",
     "output_type": "stream",
     "text": [
      "Extra Trees Classifier plain\n",
      "Mean PR AUC: 0.864 (0.048)\n",
      "PR AUC: 0.781\n",
      "Accuracy:  0.9992275552122467\n"
     ]
    }
   ],
   "source": [
    "# Define Model\n",
    "ETC_plain = ExtraTreesClassifier(n_estimators=100)\n",
    "# Call final_eval on the Model\n",
    "final_eval(ETC_plain,X_train, y_train,X_test,y_test,'Extra Trees Classifier plain')"
   ]
  },
  {
   "cell_type": "code",
   "execution_count": null,
   "metadata": {},
   "outputs": [],
   "source": []
  }
 ],
 "metadata": {
  "kernelspec": {
   "display_name": "Python 3",
   "language": "python",
   "name": "python3"
  },
  "language_info": {
   "codemirror_mode": {
    "name": "ipython",
    "version": 3
   },
   "file_extension": ".py",
   "mimetype": "text/x-python",
   "name": "python",
   "nbconvert_exporter": "python",
   "pygments_lexer": "ipython3",
   "version": "3.5.6"
  }
 },
 "nbformat": 4,
 "nbformat_minor": 4
}
