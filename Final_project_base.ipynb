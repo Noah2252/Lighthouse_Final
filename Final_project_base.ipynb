{
 "cells": [
  {
   "cell_type": "code",
   "execution_count": 19,
   "metadata": {},
   "outputs": [],
   "source": [
    "import pandas as pd\n",
    "import numpy as np"
   ]
  },
  {
   "cell_type": "markdown",
   "metadata": {},
   "source": [
    "### Explore Data"
   ]
  },
  {
   "cell_type": "code",
   "execution_count": 3,
   "metadata": {},
   "outputs": [],
   "source": [
    "creditcard = pd.read_csv('creditcard.csv')"
   ]
  },
  {
   "cell_type": "code",
   "execution_count": 3,
   "metadata": {},
   "outputs": [
    {
     "data": {
      "text/html": [
       "<div>\n",
       "<style scoped>\n",
       "    .dataframe tbody tr th:only-of-type {\n",
       "        vertical-align: middle;\n",
       "    }\n",
       "\n",
       "    .dataframe tbody tr th {\n",
       "        vertical-align: top;\n",
       "    }\n",
       "\n",
       "    .dataframe thead th {\n",
       "        text-align: right;\n",
       "    }\n",
       "</style>\n",
       "<table border=\"1\" class=\"dataframe\">\n",
       "  <thead>\n",
       "    <tr style=\"text-align: right;\">\n",
       "      <th></th>\n",
       "      <th>Time</th>\n",
       "      <th>V1</th>\n",
       "      <th>V2</th>\n",
       "      <th>V3</th>\n",
       "      <th>V4</th>\n",
       "      <th>V5</th>\n",
       "      <th>V6</th>\n",
       "      <th>V7</th>\n",
       "      <th>V8</th>\n",
       "      <th>V9</th>\n",
       "      <th>...</th>\n",
       "      <th>V21</th>\n",
       "      <th>V22</th>\n",
       "      <th>V23</th>\n",
       "      <th>V24</th>\n",
       "      <th>V25</th>\n",
       "      <th>V26</th>\n",
       "      <th>V27</th>\n",
       "      <th>V28</th>\n",
       "      <th>Amount</th>\n",
       "      <th>Class</th>\n",
       "    </tr>\n",
       "  </thead>\n",
       "  <tbody>\n",
       "    <tr>\n",
       "      <th>0</th>\n",
       "      <td>0.0</td>\n",
       "      <td>-1.359807</td>\n",
       "      <td>-0.072781</td>\n",
       "      <td>2.536347</td>\n",
       "      <td>1.378155</td>\n",
       "      <td>-0.338321</td>\n",
       "      <td>0.462388</td>\n",
       "      <td>0.239599</td>\n",
       "      <td>0.098698</td>\n",
       "      <td>0.363787</td>\n",
       "      <td>...</td>\n",
       "      <td>-0.018307</td>\n",
       "      <td>0.277838</td>\n",
       "      <td>-0.110474</td>\n",
       "      <td>0.066928</td>\n",
       "      <td>0.128539</td>\n",
       "      <td>-0.189115</td>\n",
       "      <td>0.133558</td>\n",
       "      <td>-0.021053</td>\n",
       "      <td>149.62</td>\n",
       "      <td>0</td>\n",
       "    </tr>\n",
       "    <tr>\n",
       "      <th>1</th>\n",
       "      <td>0.0</td>\n",
       "      <td>1.191857</td>\n",
       "      <td>0.266151</td>\n",
       "      <td>0.166480</td>\n",
       "      <td>0.448154</td>\n",
       "      <td>0.060018</td>\n",
       "      <td>-0.082361</td>\n",
       "      <td>-0.078803</td>\n",
       "      <td>0.085102</td>\n",
       "      <td>-0.255425</td>\n",
       "      <td>...</td>\n",
       "      <td>-0.225775</td>\n",
       "      <td>-0.638672</td>\n",
       "      <td>0.101288</td>\n",
       "      <td>-0.339846</td>\n",
       "      <td>0.167170</td>\n",
       "      <td>0.125895</td>\n",
       "      <td>-0.008983</td>\n",
       "      <td>0.014724</td>\n",
       "      <td>2.69</td>\n",
       "      <td>0</td>\n",
       "    </tr>\n",
       "    <tr>\n",
       "      <th>2</th>\n",
       "      <td>1.0</td>\n",
       "      <td>-1.358354</td>\n",
       "      <td>-1.340163</td>\n",
       "      <td>1.773209</td>\n",
       "      <td>0.379780</td>\n",
       "      <td>-0.503198</td>\n",
       "      <td>1.800499</td>\n",
       "      <td>0.791461</td>\n",
       "      <td>0.247676</td>\n",
       "      <td>-1.514654</td>\n",
       "      <td>...</td>\n",
       "      <td>0.247998</td>\n",
       "      <td>0.771679</td>\n",
       "      <td>0.909412</td>\n",
       "      <td>-0.689281</td>\n",
       "      <td>-0.327642</td>\n",
       "      <td>-0.139097</td>\n",
       "      <td>-0.055353</td>\n",
       "      <td>-0.059752</td>\n",
       "      <td>378.66</td>\n",
       "      <td>0</td>\n",
       "    </tr>\n",
       "    <tr>\n",
       "      <th>3</th>\n",
       "      <td>1.0</td>\n",
       "      <td>-0.966272</td>\n",
       "      <td>-0.185226</td>\n",
       "      <td>1.792993</td>\n",
       "      <td>-0.863291</td>\n",
       "      <td>-0.010309</td>\n",
       "      <td>1.247203</td>\n",
       "      <td>0.237609</td>\n",
       "      <td>0.377436</td>\n",
       "      <td>-1.387024</td>\n",
       "      <td>...</td>\n",
       "      <td>-0.108300</td>\n",
       "      <td>0.005274</td>\n",
       "      <td>-0.190321</td>\n",
       "      <td>-1.175575</td>\n",
       "      <td>0.647376</td>\n",
       "      <td>-0.221929</td>\n",
       "      <td>0.062723</td>\n",
       "      <td>0.061458</td>\n",
       "      <td>123.50</td>\n",
       "      <td>0</td>\n",
       "    </tr>\n",
       "    <tr>\n",
       "      <th>4</th>\n",
       "      <td>2.0</td>\n",
       "      <td>-1.158233</td>\n",
       "      <td>0.877737</td>\n",
       "      <td>1.548718</td>\n",
       "      <td>0.403034</td>\n",
       "      <td>-0.407193</td>\n",
       "      <td>0.095921</td>\n",
       "      <td>0.592941</td>\n",
       "      <td>-0.270533</td>\n",
       "      <td>0.817739</td>\n",
       "      <td>...</td>\n",
       "      <td>-0.009431</td>\n",
       "      <td>0.798278</td>\n",
       "      <td>-0.137458</td>\n",
       "      <td>0.141267</td>\n",
       "      <td>-0.206010</td>\n",
       "      <td>0.502292</td>\n",
       "      <td>0.219422</td>\n",
       "      <td>0.215153</td>\n",
       "      <td>69.99</td>\n",
       "      <td>0</td>\n",
       "    </tr>\n",
       "  </tbody>\n",
       "</table>\n",
       "<p>5 rows × 31 columns</p>\n",
       "</div>"
      ],
      "text/plain": [
       "   Time        V1        V2        V3        V4        V5        V6        V7  \\\n",
       "0   0.0 -1.359807 -0.072781  2.536347  1.378155 -0.338321  0.462388  0.239599   \n",
       "1   0.0  1.191857  0.266151  0.166480  0.448154  0.060018 -0.082361 -0.078803   \n",
       "2   1.0 -1.358354 -1.340163  1.773209  0.379780 -0.503198  1.800499  0.791461   \n",
       "3   1.0 -0.966272 -0.185226  1.792993 -0.863291 -0.010309  1.247203  0.237609   \n",
       "4   2.0 -1.158233  0.877737  1.548718  0.403034 -0.407193  0.095921  0.592941   \n",
       "\n",
       "         V8        V9  ...         V21       V22       V23       V24  \\\n",
       "0  0.098698  0.363787  ...   -0.018307  0.277838 -0.110474  0.066928   \n",
       "1  0.085102 -0.255425  ...   -0.225775 -0.638672  0.101288 -0.339846   \n",
       "2  0.247676 -1.514654  ...    0.247998  0.771679  0.909412 -0.689281   \n",
       "3  0.377436 -1.387024  ...   -0.108300  0.005274 -0.190321 -1.175575   \n",
       "4 -0.270533  0.817739  ...   -0.009431  0.798278 -0.137458  0.141267   \n",
       "\n",
       "        V25       V26       V27       V28  Amount  Class  \n",
       "0  0.128539 -0.189115  0.133558 -0.021053  149.62      0  \n",
       "1  0.167170  0.125895 -0.008983  0.014724    2.69      0  \n",
       "2 -0.327642 -0.139097 -0.055353 -0.059752  378.66      0  \n",
       "3  0.647376 -0.221929  0.062723  0.061458  123.50      0  \n",
       "4 -0.206010  0.502292  0.219422  0.215153   69.99      0  \n",
       "\n",
       "[5 rows x 31 columns]"
      ]
     },
     "execution_count": 3,
     "metadata": {},
     "output_type": "execute_result"
    }
   ],
   "source": [
    "creditcard.head()"
   ]
  },
  {
   "cell_type": "code",
   "execution_count": 69,
   "metadata": {},
   "outputs": [
    {
     "data": {
      "text/plain": [
       "31"
      ]
     },
     "execution_count": 69,
     "metadata": {},
     "output_type": "execute_result"
    }
   ],
   "source": [
    "creditcard.columns.nunique()"
   ]
  },
  {
   "cell_type": "code",
   "execution_count": 4,
   "metadata": {},
   "outputs": [
    {
     "data": {
      "text/plain": [
       "Time      0\n",
       "V1        0\n",
       "V2        0\n",
       "V3        0\n",
       "V4        0\n",
       "V5        0\n",
       "V6        0\n",
       "V7        0\n",
       "V8        0\n",
       "V9        0\n",
       "V10       0\n",
       "V11       0\n",
       "V12       0\n",
       "V13       0\n",
       "V14       0\n",
       "V15       0\n",
       "V16       0\n",
       "V17       0\n",
       "V18       0\n",
       "V19       0\n",
       "V20       0\n",
       "V21       0\n",
       "V22       0\n",
       "V23       0\n",
       "V24       0\n",
       "V25       0\n",
       "V26       0\n",
       "V27       0\n",
       "V28       0\n",
       "Amount    0\n",
       "Class     0\n",
       "dtype: int64"
      ]
     },
     "execution_count": 4,
     "metadata": {},
     "output_type": "execute_result"
    }
   ],
   "source": [
    "creditcard.isnull().sum()"
   ]
  },
  {
   "cell_type": "code",
   "execution_count": 11,
   "metadata": {},
   "outputs": [
    {
     "name": "stdout",
     "output_type": "stream",
     "text": [
      "Time max:  172792.0 \t Time min:  0.0\n",
      "V1 max:  2.45492999121121 \t V1 min:  -56.407509631329\n",
      "V2 max:  22.0577289904909 \t V2 min:  -72.7157275629303\n",
      "V3 max:  9.38255843282114 \t V3 min:  -48.3255893623954\n",
      "V4 max:  16.8753440335975 \t V4 min:  -5.68317119816995\n",
      "V5 max:  34.8016658766686 \t V5 min:  -113.74330671114599\n",
      "V6 max:  73.3016255459646 \t V6 min:  -26.1605059358433\n",
      "V7 max:  120.589493945238 \t V7 min:  -43.5572415712451\n",
      "V8 max:  20.0072083651213 \t V8 min:  -73.21671845526741\n",
      "V9 max:  15.5949946071278 \t V9 min:  -13.4340663182301\n",
      "V10 max:  23.7451361206545 \t V10 min:  -24.5882624372475\n",
      "V11 max:  12.018913181619899 \t V11 min:  -4.79747346479757\n",
      "V12 max:  7.8483920756445995 \t V12 min:  -18.683714633344298\n",
      "V13 max:  7.126882958593759 \t V13 min:  -5.7918812063208405\n",
      "V14 max:  10.5267660517847 \t V14 min:  -19.2143254902614\n",
      "V15 max:  8.87774159774277 \t V15 min:  -4.49894467676621\n",
      "V16 max:  17.315111517627802 \t V16 min:  -14.1298545174931\n",
      "V17 max:  9.25352625047285 \t V17 min:  -25.162799369324798\n",
      "V18 max:  5.04106918541184 \t V18 min:  -9.498745921046769\n",
      "V19 max:  5.59197142733558 \t V19 min:  -7.21352743017759\n",
      "V20 max:  39.4209042482199 \t V20 min:  -54.497720494566\n",
      "V21 max:  27.2028391573154 \t V21 min:  -34.8303821448146\n",
      "V22 max:  10.5030900899454 \t V22 min:  -10.933143697655\n",
      "V23 max:  22.5284116897749 \t V23 min:  -44.807735203791296\n",
      "V24 max:  4.58454913689817 \t V24 min:  -2.83662691870341\n",
      "V25 max:  7.51958867870916 \t V25 min:  -10.2953970749851\n",
      "V26 max:  3.5173456116237998 \t V26 min:  -2.60455055280817\n",
      "V27 max:  31.612198106136304 \t V27 min:  -22.5656793207827\n",
      "V28 max:  33.8478078188831 \t V28 min:  -15.430083905534898\n",
      "Amount max:  25691.16 \t Amount min:  0.0\n",
      "Class max:  1 \t Class min:  0\n"
     ]
    }
   ],
   "source": [
    "print('Time max: ', creditcard.Time.max(), '\\t','Time min: ', creditcard.Time.min())\n",
    "print('V1 max: ', creditcard.V1.max(), '\\t','V1 min: ', creditcard.V1.min())\n",
    "print('V2 max: ', creditcard.V2.max(), '\\t','V2 min: ', creditcard.V2.min())\n",
    "print('V3 max: ', creditcard.V3.max(), '\\t','V3 min: ', creditcard.V3.min())\n",
    "print('V4 max: ', creditcard.V4.max(), '\\t','V4 min: ', creditcard.V4.min())\n",
    "print('V5 max: ', creditcard.V5.max(), '\\t','V5 min: ', creditcard.V5.min())\n",
    "print('V6 max: ', creditcard.V6.max(), '\\t','V6 min: ', creditcard.V6.min())\n",
    "print('V7 max: ', creditcard.V7.max(), '\\t','V7 min: ', creditcard.V7.min())\n",
    "print('V8 max: ', creditcard.V8.max(), '\\t','V8 min: ', creditcard.V8.min())\n",
    "print('V9 max: ', creditcard.V9.max(), '\\t','V9 min: ', creditcard.V9.min())\n",
    "print('V10 max: ', creditcard.V10.max(), '\\t','V10 min: ', creditcard.V10.min())\n",
    "print('V11 max: ', creditcard.V11.max(), '\\t','V11 min: ', creditcard.V11.min())\n",
    "print('V12 max: ', creditcard.V12.max(), '\\t','V12 min: ', creditcard.V12.min())\n",
    "print('V13 max: ', creditcard.V13.max(), '\\t','V13 min: ', creditcard.V13.min())\n",
    "print('V14 max: ', creditcard.V14.max(), '\\t','V14 min: ', creditcard.V14.min())\n",
    "print('V15 max: ', creditcard.V15.max(), '\\t','V15 min: ', creditcard.V15.min())\n",
    "print('V16 max: ', creditcard.V16.max(), '\\t','V16 min: ', creditcard.V16.min())\n",
    "print('V17 max: ', creditcard.V17.max(), '\\t','V17 min: ', creditcard.V17.min())\n",
    "print('V18 max: ', creditcard.V18.max(), '\\t','V18 min: ', creditcard.V18.min())\n",
    "print('V19 max: ', creditcard.V19.max(), '\\t','V19 min: ', creditcard.V19.min())\n",
    "print('V20 max: ', creditcard.V20.max(), '\\t','V20 min: ', creditcard.V20.min())\n",
    "print('V21 max: ', creditcard.V21.max(), '\\t','V21 min: ', creditcard.V21.min())\n",
    "print('V22 max: ', creditcard.V22.max(), '\\t','V22 min: ', creditcard.V22.min())\n",
    "print('V23 max: ', creditcard.V23.max(), '\\t','V23 min: ', creditcard.V23.min())\n",
    "print('V24 max: ', creditcard.V24.max(), '\\t','V24 min: ', creditcard.V24.min())\n",
    "print('V25 max: ', creditcard.V25.max(), '\\t','V25 min: ', creditcard.V25.min())\n",
    "print('V26 max: ', creditcard.V26.max(), '\\t','V26 min: ', creditcard.V26.min())\n",
    "print('V27 max: ', creditcard.V27.max(), '\\t','V27 min: ', creditcard.V27.min())\n",
    "print('V28 max: ', creditcard.V28.max(), '\\t','V28 min: ', creditcard.V28.min())\n",
    "print('Amount max: ', creditcard.Amount.max(), '\\t','Amount min: ', creditcard.Amount.min())\n",
    "print('Class max: ', creditcard.Class.max(), '\\t','Class min: ', creditcard.Class.min())"
   ]
  },
  {
   "cell_type": "code",
   "execution_count": null,
   "metadata": {},
   "outputs": [],
   "source": [
    "creditcard"
   ]
  },
  {
   "cell_type": "code",
   "execution_count": null,
   "metadata": {},
   "outputs": [],
   "source": []
  },
  {
   "cell_type": "code",
   "execution_count": null,
   "metadata": {},
   "outputs": [],
   "source": []
  },
  {
   "cell_type": "markdown",
   "metadata": {},
   "source": [
    "### Split train test"
   ]
  },
  {
   "cell_type": "code",
   "execution_count": 4,
   "metadata": {},
   "outputs": [],
   "source": [
    "from sklearn.model_selection import train_test_split"
   ]
  },
  {
   "cell_type": "code",
   "execution_count": 5,
   "metadata": {},
   "outputs": [],
   "source": [
    "y = creditcard[['Class']]\n",
    "X = creditcard.drop('Class', axis=1)"
   ]
  },
  {
   "cell_type": "code",
   "execution_count": null,
   "metadata": {},
   "outputs": [],
   "source": []
  },
  {
   "cell_type": "code",
   "execution_count": null,
   "metadata": {},
   "outputs": [],
   "source": []
  },
  {
   "cell_type": "code",
   "execution_count": 27,
   "metadata": {},
   "outputs": [
    {
     "name": "stdout",
     "output_type": "stream",
     "text": [
      "y:  (284807, 1) X:  (284807, 30)\n"
     ]
    }
   ],
   "source": [
    "print('y: ', y.shape, 'X: ', X.shape)"
   ]
  },
  {
   "cell_type": "code",
   "execution_count": 12,
   "metadata": {},
   "outputs": [],
   "source": [
    "X_train, X_test, y_train, y_test = train_test_split(X, y, test_size=0.2)#, random_state=42,stratify=['Class'])"
   ]
  },
  {
   "cell_type": "code",
   "execution_count": 20,
   "metadata": {},
   "outputs": [
    {
     "data": {
      "text/plain": [
       "Class    0.001734\n",
       "dtype: float64"
      ]
     },
     "execution_count": 20,
     "metadata": {},
     "output_type": "execute_result"
    }
   ],
   "source": [
    "y_train.sum()/len(y_train)"
   ]
  },
  {
   "cell_type": "code",
   "execution_count": 21,
   "metadata": {},
   "outputs": [
    {
     "data": {
      "text/plain": [
       "Class    0.001703\n",
       "dtype: float64"
      ]
     },
     "execution_count": 21,
     "metadata": {},
     "output_type": "execute_result"
    }
   ],
   "source": [
    "y_test.sum()/len(y_test)"
   ]
  },
  {
   "cell_type": "code",
   "execution_count": null,
   "metadata": {},
   "outputs": [],
   "source": []
  },
  {
   "cell_type": "code",
   "execution_count": 22,
   "metadata": {},
   "outputs": [
    {
     "data": {
      "text/plain": [
       "227845"
      ]
     },
     "execution_count": 22,
     "metadata": {},
     "output_type": "execute_result"
    }
   ],
   "source": [
    "len(y_train)"
   ]
  },
  {
   "cell_type": "code",
   "execution_count": 23,
   "metadata": {},
   "outputs": [
    {
     "data": {
      "text/plain": [
       "56962"
      ]
     },
     "execution_count": 23,
     "metadata": {},
     "output_type": "execute_result"
    }
   ],
   "source": [
    "len(y_test)"
   ]
  },
  {
   "cell_type": "markdown",
   "metadata": {},
   "source": [
    "### Build Model"
   ]
  },
  {
   "cell_type": "code",
   "execution_count": 24,
   "metadata": {},
   "outputs": [],
   "source": [
    "import keras\n",
    "from keras.models import Sequential\n",
    "from keras.layers import Dense"
   ]
  },
  {
   "cell_type": "code",
   "execution_count": 25,
   "metadata": {},
   "outputs": [],
   "source": [
    "model = Sequential()\n",
    "model.add(Dense(12, input_dim=30, activation='relu'))\n",
    "model.add(Dense(8, activation='relu'))\n",
    "model.add(Dense(1, activation='sigmoid'))"
   ]
  },
  {
   "cell_type": "code",
   "execution_count": 26,
   "metadata": {},
   "outputs": [],
   "source": [
    "model.compile(loss='binary_crossentropy', optimizer='adam', metrics=['accuracy'])"
   ]
  },
  {
   "cell_type": "code",
   "execution_count": 1,
   "metadata": {},
   "outputs": [],
   "source": []
  },
  {
   "cell_type": "markdown",
   "metadata": {},
   "source": [
    "### Fit model"
   ]
  },
  {
   "cell_type": "code",
   "execution_count": 27,
   "metadata": {},
   "outputs": [
    {
     "name": "stdout",
     "output_type": "stream",
     "text": [
      "Epoch 1/10\n",
      "22785/22785 [==============================] - 16s 666us/step - loss: 0.1477 - accuracy: 0.9980\n",
      "Epoch 2/10\n",
      "22785/22785 [==============================] - 16s 721us/step - loss: 0.0144 - accuracy: 0.9983\n",
      "Epoch 3/10\n",
      "22785/22785 [==============================] - 13s 572us/step - loss: 0.0204 - accuracy: 0.9983\n",
      "Epoch 4/10\n",
      "22785/22785 [==============================] - 14s 599us/step - loss: 0.0142 - accuracy: 0.9982\n",
      "Epoch 5/10\n",
      "22785/22785 [==============================] - 16s 721us/step - loss: 0.0193 - accuracy: 0.9983\n",
      "Epoch 6/10\n",
      "22785/22785 [==============================] - 16s 714us/step - loss: 0.0226 - accuracy: 0.9984\n",
      "Epoch 7/10\n",
      "22785/22785 [==============================] - 16s 704us/step - loss: 0.0265 - accuracy: 0.9981\n",
      "Epoch 8/10\n",
      "22785/22785 [==============================] - 15s 673us/step - loss: 0.0140 - accuracy: 0.9983\n",
      "Epoch 9/10\n",
      "22785/22785 [==============================] - 23s 1ms/step - loss: 0.0483 - accuracy: 0.9981\n",
      "Epoch 10/10\n",
      "22785/22785 [==============================] - 15s 643us/step - loss: 0.0217 - accuracy: 0.9983\n"
     ]
    },
    {
     "data": {
      "text/plain": [
       "<tensorflow.python.keras.callbacks.History at 0x1a5b3820f0>"
      ]
     },
     "execution_count": 27,
     "metadata": {},
     "output_type": "execute_result"
    }
   ],
   "source": [
    "model.fit(X_train, y_train, epochs=10, batch_size=10)"
   ]
  },
  {
   "cell_type": "markdown",
   "metadata": {},
   "source": [
    "### Evaluate Model"
   ]
  },
  {
   "cell_type": "code",
   "execution_count": 28,
   "metadata": {},
   "outputs": [],
   "source": [
    "y_pred = model.predict(X_test)"
   ]
  },
  {
   "cell_type": "code",
   "execution_count": 33,
   "metadata": {},
   "outputs": [
    {
     "data": {
      "text/plain": [
       "0.00038622238"
      ]
     },
     "execution_count": 33,
     "metadata": {},
     "output_type": "execute_result"
    }
   ],
   "source": [
    "m = keras.metrics.Accuracy()\n",
    "m.update_state(y_test, y_pred)\n",
    "m.result().numpy()"
   ]
  },
  {
   "cell_type": "code",
   "execution_count": null,
   "metadata": {},
   "outputs": [],
   "source": []
  }
 ],
 "metadata": {
  "kernelspec": {
   "display_name": "Python 3",
   "language": "python",
   "name": "python3"
  },
  "language_info": {
   "codemirror_mode": {
    "name": "ipython",
    "version": 3
   },
   "file_extension": ".py",
   "mimetype": "text/x-python",
   "name": "python",
   "nbconvert_exporter": "python",
   "pygments_lexer": "ipython3",
   "version": "3.6.8"
  }
 },
 "nbformat": 4,
 "nbformat_minor": 2
}
